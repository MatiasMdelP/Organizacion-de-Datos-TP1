{
 "cells": [
  {
   "cell_type": "code",
   "execution_count": 1,
   "metadata": {},
   "outputs": [],
   "source": [
    "import pandas as pd"
   ]
  },
  {
   "cell_type": "code",
   "execution_count": 2,
   "metadata": {},
   "outputs": [],
   "source": [
    "eventsFirstValues = pd.read_csv('./datos/events.csv', nrows=100)"
   ]
  },
  {
   "cell_type": "code",
   "execution_count": 3,
   "metadata": {
    "scrolled": false
   },
   "outputs": [
    {
     "name": "stdout",
     "output_type": "stream",
     "text": [
      "<class 'pandas.core.frame.DataFrame'>\n",
      "RangeIndex: 100 entries, 0 to 99\n",
      "Data columns (total 22 columns):\n",
      "date                  100 non-null object\n",
      "event_id              100 non-null int64\n",
      "ref_type              100 non-null int64\n",
      "ref_hash              100 non-null int64\n",
      "application_id        100 non-null int64\n",
      "attributed            100 non-null bool\n",
      "device_countrycode    100 non-null int64\n",
      "device_os_version     100 non-null float64\n",
      "device_brand          0 non-null float64\n",
      "device_model          100 non-null float64\n",
      "device_city           100 non-null float64\n",
      "session_user_agent    100 non-null float64\n",
      "trans_id              0 non-null float64\n",
      "user_agent            0 non-null float64\n",
      "event_uuid            100 non-null object\n",
      "carrier               100 non-null float64\n",
      "kind                  100 non-null float64\n",
      "device_os             100 non-null float64\n",
      "wifi                  0 non-null float64\n",
      "connection_type       100 non-null object\n",
      "ip_address            100 non-null int64\n",
      "device_language       100 non-null float64\n",
      "dtypes: bool(1), float64(12), int64(6), object(3)\n",
      "memory usage: 16.6+ KB\n"
     ]
    }
   ],
   "source": [
    "eventsFirstValues.info()"
   ]
  },
  {
   "cell_type": "code",
   "execution_count": 4,
   "metadata": {},
   "outputs": [],
   "source": [
    "eventsIterator = pd.read_csv('./datos/events.csv', chunksize=1000000)"
   ]
  },
  {
   "cell_type": "code",
   "execution_count": 5,
   "metadata": {
    "scrolled": false
   },
   "outputs": [
    {
     "name": "stderr",
     "output_type": "stream",
     "text": [
      "/home/matias/.local/lib/python3.6/site-packages/IPython/core/interactiveshell.py:3049: DtypeWarning: Columns (12,18,19) have mixed types. Specify dtype option on import or set low_memory=False.\n",
      "  interactivity=interactivity, compiler=compiler, result=result)\n"
     ]
    }
   ],
   "source": [
    "columnNames = ['event_id', 'ref_type', 'ref_hash', 'application_id']\n",
    "max = [(columnName, 0) for columnName in columnNames]\n",
    "max = dict(max)\n",
    "min = [(columnName, eventsFirstValues[columnName].iloc[0]) for columnName in columnNames]\n",
    "min = dict(min)\n",
    "chunkMax = 0\n",
    "chunkMin = 0\n",
    "for eventsChunk in eventsIterator:\n",
    "    for columnName in columnNames:\n",
    "        chunkMax = eventsChunk[columnName].max();\n",
    "        chunkMin = eventsChunk[columnName].min();\n",
    "        max[columnName] = chunkMax if chunkMax > max[columnName] else max[columnName]\n",
    "        min[columnName] = chunkMin if chunkMin < min[columnName] else min[columnName]"
   ]
  },
  {
   "cell_type": "code",
   "execution_count": 6,
   "metadata": {
    "scrolled": true
   },
   "outputs": [
    {
     "data": {
      "text/plain": [
       "{'event_id': 712,\n",
       " 'ref_type': 1891515180541284343,\n",
       " 'ref_hash': 9223315715583246351,\n",
       " 'application_id': 322}"
      ]
     },
     "execution_count": 6,
     "metadata": {},
     "output_type": "execute_result"
    }
   ],
   "source": [
    "max"
   ]
  },
  {
   "cell_type": "code",
   "execution_count": 7,
   "metadata": {},
   "outputs": [
    {
     "data": {
      "text/plain": [
       "{'event_id': 0,\n",
       " 'ref_type': 1494519392962156891,\n",
       " 'ref_hash': 163367509015039,\n",
       " 'application_id': 0}"
      ]
     },
     "execution_count": 7,
     "metadata": {},
     "output_type": "execute_result"
    }
   ],
   "source": [
    "min"
   ]
  },
  {
   "cell_type": "code",
   "execution_count": 8,
   "metadata": {},
   "outputs": [],
   "source": [
    "events = pd.read_csv('./datos/events.csv', usecols=['date', 'event_id', 'ref_type', 'ref_hash', 'application_id', 'attributed', 'trans_id'], parse_dates=['date'], dtype={\n",
    "    'date': 'str',\n",
    "    'event_id': 'int16',\n",
    "    'ref_type': 'category',\n",
    "    'ref_hash': 'int64',\n",
    "    'application_id': 'int16',\n",
    "    'attributed': 'bool',\n",
    "    'trans_id': 'str'\n",
    "})"
   ]
  },
  {
   "cell_type": "code",
   "execution_count": 9,
   "metadata": {},
   "outputs": [
    {
     "name": "stdout",
     "output_type": "stream",
     "text": [
      "<class 'pandas.core.frame.DataFrame'>\n",
      "RangeIndex: 2494423 entries, 0 to 2494422\n",
      "Data columns (total 7 columns):\n",
      "date              datetime64[ns]\n",
      "event_id          int16\n",
      "ref_type          category\n",
      "ref_hash          int64\n",
      "application_id    int16\n",
      "attributed        bool\n",
      "trans_id          object\n",
      "dtypes: bool(1), category(1), datetime64[ns](1), int16(2), int64(1), object(1)\n",
      "memory usage: 71.4+ MB\n"
     ]
    }
   ],
   "source": [
    "events.info()"
   ]
  },
  {
   "cell_type": "code",
   "execution_count": 10,
   "metadata": {},
   "outputs": [
    {
     "data": {
      "text/plain": [
       "{'event_id': 0,\n",
       " 'ref_type': 1494519392962156891,\n",
       " 'ref_hash': 163367509015039,\n",
       " 'application_id': 0}"
      ]
     },
     "execution_count": 10,
     "metadata": {},
     "output_type": "execute_result"
    }
   ],
   "source": [
    "min"
   ]
  },
  {
   "cell_type": "code",
   "execution_count": 14,
   "metadata": {},
   "outputs": [
    {
     "data": {
      "text/plain": [
       "False    2489324\n",
       "True        5099\n",
       "Name: attributed, dtype: int64"
      ]
     },
     "execution_count": 14,
     "metadata": {},
     "output_type": "execute_result"
    }
   ],
   "source": [
    "events['attributed'].value_counts()"
   ]
  },
  {
   "cell_type": "code",
   "execution_count": 16,
   "metadata": {},
   "outputs": [
    {
     "data": {
      "image/png": "[encoded data removed]",
      "text/plain": [
       "<Figure size 432x288 with 1 Axes>"
      ]
     },
     "metadata": {},
     "output_type": "display_data"
    }
   ],
   "source": [
    "import matplotlib.pyplot as plt\n",
    "plt.pie(events['attributed'].value_counts(normalize=True).values)\n",
    "plt.show()"
   ]
  },
  {
   "cell_type": "code",
   "execution_count": null,
   "metadata": {},
   "outputs": [],
   "source": []
  }
 ],
 "metadata": {
  "kernelspec": {
   "display_name": "Python 3",
   "language": "python",
   "name": "python3"
  },
  "language_info": {
   "codemirror_mode": {
    "name": "ipython",
    "version": 3
   },
   "file_extension": ".py",
   "mimetype": "text/x-python",
   "name": "python",
   "nbconvert_exporter": "python",
   "pygments_lexer": "ipython3",
   "version": "3.6.7"
  }
 },
 "nbformat": 4,
 "nbformat_minor": 2
}
