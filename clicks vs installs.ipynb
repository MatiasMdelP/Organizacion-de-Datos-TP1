{
 "cells": [
  {
   "cell_type": "code",
   "execution_count": 1,
   "metadata": {},
   "outputs": [],
   "source": [
    "import pandas as pd"
   ]
  },
  {
   "cell_type": "code",
   "execution_count": 2,
   "metadata": {},
   "outputs": [],
   "source": [
    "clicks = pd.read_csv('./datos/clicks.csv')\n",
    "installs = pd.read_csv('./datos/installs.csv')"
   ]
  },
  {
   "cell_type": "code",
   "execution_count": 3,
   "metadata": {},
   "outputs": [
    {
     "name": "stdout",
     "output_type": "stream",
     "text": [
      "<class 'pandas.core.frame.DataFrame'>\n",
      "RangeIndex: 26351 entries, 0 to 26350\n",
      "Data columns (total 20 columns):\n",
      "advertiser_id      26351 non-null int64\n",
      "action_id          0 non-null float64\n",
      "source_id          26351 non-null int64\n",
      "created            26351 non-null object\n",
      "country_code       26351 non-null int64\n",
      "latitude           26351 non-null float64\n",
      "longitude          26351 non-null float64\n",
      "wifi_connection    26351 non-null bool\n",
      "carrier_id         26340 non-null float64\n",
      "trans_id           26351 non-null object\n",
      "os_minor           26339 non-null float64\n",
      "agent_device       3243 non-null float64\n",
      "os_major           26339 non-null float64\n",
      "specs_brand        26351 non-null int64\n",
      "brand              6235 non-null float64\n",
      "timeToClick        22977 non-null float64\n",
      "touchX             23011 non-null float64\n",
      "touchY             23011 non-null float64\n",
      "ref_type           26351 non-null int64\n",
      "ref_hash           26351 non-null int64\n",
      "dtypes: bool(1), float64(11), int64(6), object(2)\n",
      "memory usage: 3.8+ MB\n"
     ]
    }
   ],
   "source": [
    "clicks.info()"
   ]
  },
  {
   "cell_type": "code",
   "execution_count": 4,
   "metadata": {},
   "outputs": [
    {
     "name": "stdout",
     "output_type": "stream",
     "text": [
      "<class 'pandas.core.frame.DataFrame'>\n",
      "RangeIndex: 3412 entries, 0 to 3411\n",
      "Data columns (total 18 columns):\n",
      "created               3412 non-null object\n",
      "application_id        3412 non-null int64\n",
      "ref_type              3412 non-null int64\n",
      "ref_hash              3412 non-null int64\n",
      "click_hash            0 non-null float64\n",
      "attributed            3412 non-null bool\n",
      "implicit              3412 non-null bool\n",
      "device_countrycode    3412 non-null int64\n",
      "device_brand          1047 non-null float64\n",
      "device_model          3411 non-null float64\n",
      "session_user_agent    3364 non-null object\n",
      "user_agent            1729 non-null object\n",
      "event_uuid            865 non-null object\n",
      "kind                  865 non-null object\n",
      "wifi                  1729 non-null object\n",
      "trans_id              6 non-null object\n",
      "ip_address            3412 non-null int64\n",
      "device_language       3378 non-null float64\n",
      "dtypes: bool(2), float64(4), int64(5), object(7)\n",
      "memory usage: 433.2+ KB\n"
     ]
    }
   ],
   "source": [
    "installs.info()"
   ]
  },
  {
   "cell_type": "code",
   "execution_count": 5,
   "metadata": {
    "scrolled": false
   },
   "outputs": [
    {
     "data": {
      "text/html": [
       "<div>\n",
       "<style scoped>\n",
       "    .dataframe tbody tr th:only-of-type {\n",
       "        vertical-align: middle;\n",
       "    }\n",
       "\n",
       "    .dataframe tbody tr th {\n",
       "        vertical-align: top;\n",
       "    }\n",
       "\n",
       "    .dataframe thead th {\n",
       "        text-align: right;\n",
       "    }\n",
       "</style>\n",
       "<table border=\"1\" class=\"dataframe\">\n",
       "  <thead>\n",
       "    <tr style=\"text-align: right;\">\n",
       "      <th></th>\n",
       "      <th>ref_hash</th>\n",
       "      <th>click_created</th>\n",
       "      <th>install_created</th>\n",
       "    </tr>\n",
       "  </thead>\n",
       "  <tbody>\n",
       "    <tr>\n",
       "      <th>0</th>\n",
       "      <td>8187571300120427764</td>\n",
       "      <td>2019-03-09T01:05:04.020Z</td>\n",
       "      <td>2019-03-06 10:27:43.604</td>\n",
       "    </tr>\n",
       "    <tr>\n",
       "      <th>1</th>\n",
       "      <td>7759178785240189555</td>\n",
       "      <td>2019-03-11T13:16:59.223Z</td>\n",
       "      <td>2019-03-08 14:10:39.335</td>\n",
       "    </tr>\n",
       "    <tr>\n",
       "      <th>2</th>\n",
       "      <td>7759178785240189555</td>\n",
       "      <td>2019-03-12T02:14:06.129Z</td>\n",
       "      <td>2019-03-08 14:10:39.335</td>\n",
       "    </tr>\n",
       "    <tr>\n",
       "      <th>3</th>\n",
       "      <td>1254317779988816837</td>\n",
       "      <td>2019-03-11T13:59:56.718Z</td>\n",
       "      <td>2019-03-06 03:30:01.796</td>\n",
       "    </tr>\n",
       "    <tr>\n",
       "      <th>4</th>\n",
       "      <td>2369915544093215150</td>\n",
       "      <td>2019-03-10T10:29:19.742Z</td>\n",
       "      <td>2019-03-10 08:30:15.346</td>\n",
       "    </tr>\n",
       "    <tr>\n",
       "      <th>5</th>\n",
       "      <td>3685364020547088390</td>\n",
       "      <td>2019-03-10T11:39:33.727Z</td>\n",
       "      <td>2019-03-08 00:30:02.714</td>\n",
       "    </tr>\n",
       "    <tr>\n",
       "      <th>6</th>\n",
       "      <td>7190737170444985036</td>\n",
       "      <td>2019-03-13T02:30:21.888Z</td>\n",
       "      <td>2019-03-11 09:38:31.388</td>\n",
       "    </tr>\n",
       "    <tr>\n",
       "      <th>7</th>\n",
       "      <td>582930240149217282</td>\n",
       "      <td>2019-03-13T19:44:45.440Z</td>\n",
       "      <td>2019-03-06 21:33:40.647</td>\n",
       "    </tr>\n",
       "    <tr>\n",
       "      <th>8</th>\n",
       "      <td>582930240149217282</td>\n",
       "      <td>2019-03-13T15:46:16.686Z</td>\n",
       "      <td>2019-03-06 21:33:40.647</td>\n",
       "    </tr>\n",
       "    <tr>\n",
       "      <th>9</th>\n",
       "      <td>582930240149217282</td>\n",
       "      <td>2019-03-13T00:20:51.518Z</td>\n",
       "      <td>2019-03-06 21:33:40.647</td>\n",
       "    </tr>\n",
       "    <tr>\n",
       "      <th>10</th>\n",
       "      <td>582930240149217282</td>\n",
       "      <td>2019-03-13T00:24:42.253Z</td>\n",
       "      <td>2019-03-06 21:33:40.647</td>\n",
       "    </tr>\n",
       "  </tbody>\n",
       "</table>\n",
       "</div>"
      ],
      "text/plain": [
       "               ref_hash             click_created          install_created\n",
       "0   8187571300120427764  2019-03-09T01:05:04.020Z  2019-03-06 10:27:43.604\n",
       "1   7759178785240189555  2019-03-11T13:16:59.223Z  2019-03-08 14:10:39.335\n",
       "2   7759178785240189555  2019-03-12T02:14:06.129Z  2019-03-08 14:10:39.335\n",
       "3   1254317779988816837  2019-03-11T13:59:56.718Z  2019-03-06 03:30:01.796\n",
       "4   2369915544093215150  2019-03-10T10:29:19.742Z  2019-03-10 08:30:15.346\n",
       "5   3685364020547088390  2019-03-10T11:39:33.727Z  2019-03-08 00:30:02.714\n",
       "6   7190737170444985036  2019-03-13T02:30:21.888Z  2019-03-11 09:38:31.388\n",
       "7    582930240149217282  2019-03-13T19:44:45.440Z  2019-03-06 21:33:40.647\n",
       "8    582930240149217282  2019-03-13T15:46:16.686Z  2019-03-06 21:33:40.647\n",
       "9    582930240149217282  2019-03-13T00:20:51.518Z  2019-03-06 21:33:40.647\n",
       "10   582930240149217282  2019-03-13T00:24:42.253Z  2019-03-06 21:33:40.647"
      ]
     },
     "execution_count": 5,
     "metadata": {},
     "output_type": "execute_result"
    }
   ],
   "source": [
    "clicks = clicks.rename(index=str, columns={'created': 'click_created'})\n",
    "installs = installs.rename(index=str, columns={'created': 'install_created'})\n",
    "pd.merge(clicks[['ref_hash','click_created']], installs[['ref_hash','install_created']], on='ref_hash')\n",
    "# Como se si la app que instalo es la misma de la publicidad??"
   ]
  },
  {
   "cell_type": "code",
   "execution_count": 6,
   "metadata": {},
   "outputs": [
    {
     "data": {
      "text/plain": [
       "False    3412\n",
       "Name: attributed, dtype: int64"
      ]
     },
     "execution_count": 6,
     "metadata": {},
     "output_type": "execute_result"
    }
   ],
   "source": [
    "installs['attributed'].value_counts()"
   ]
  },
  {
   "cell_type": "code",
   "execution_count": 7,
   "metadata": {},
   "outputs": [
    {
     "data": {
      "text/plain": [
       "False    2547\n",
       "True      865\n",
       "Name: implicit, dtype: int64"
      ]
     },
     "execution_count": 7,
     "metadata": {},
     "output_type": "execute_result"
    }
   ],
   "source": [
    "installs['implicit'].value_counts()"
   ]
  }
 ],
 "metadata": {
  "kernelspec": {
   "display_name": "Python 3",
   "language": "python",
   "name": "python3"
  },
  "language_info": {
   "codemirror_mode": {
    "name": "ipython",
    "version": 3
   },
   "file_extension": ".py",
   "mimetype": "text/x-python",
   "name": "python",
   "nbconvert_exporter": "python",
   "pygments_lexer": "ipython3",
   "version": "3.6.7"
  }
 },
 "nbformat": 4,
 "nbformat_minor": 2
}
