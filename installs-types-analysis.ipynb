{
 "cells": [
  {
   "cell_type": "code",
   "execution_count": 1,
   "metadata": {},
   "outputs": [],
   "source": [
    "import pandas as pd\n",
    "import numpy as np\n",
    "import matplotlib.pyplot as plt\n",
    "\n",
    "%matplotlib inline"
   ]
  },
  {
   "cell_type": "code",
   "execution_count": 2,
   "metadata": {},
   "outputs": [],
   "source": [
    "installs = pd.read_csv('./datos/installs.csv')"
   ]
  },
  {
   "cell_type": "markdown",
   "metadata": {},
   "source": [
    "A continuación obtenemos una información general del archivo a analizar, en el cual podemos ver que tenermos **3412 filas** de datos y cada una ellas tiene **18 columnas**.\n",
    "Por otra parte nos dice que la columna ***'click_hash'*** tiene todos datos nulos por lo que podríamos desprendernos de dichos valores. "
   ]
  },
  {
   "cell_type": "code",
   "execution_count": 3,
   "metadata": {},
   "outputs": [
    {
     "name": "stdout",
     "output_type": "stream",
     "text": [
      "<class 'pandas.core.frame.DataFrame'>\n",
      "RangeIndex: 3412 entries, 0 to 3411\n",
      "Data columns (total 18 columns):\n",
      "created               3412 non-null object\n",
      "application_id        3412 non-null int64\n",
      "ref_type              3412 non-null int64\n",
      "ref_hash              3412 non-null int64\n",
      "click_hash            0 non-null float64\n",
      "attributed            3412 non-null bool\n",
      "implicit              3412 non-null bool\n",
      "device_countrycode    3412 non-null int64\n",
      "device_brand          1047 non-null float64\n",
      "device_model          3411 non-null float64\n",
      "session_user_agent    3364 non-null object\n",
      "user_agent            1729 non-null object\n",
      "event_uuid            865 non-null object\n",
      "kind                  865 non-null object\n",
      "wifi                  1729 non-null object\n",
      "trans_id              6 non-null object\n",
      "ip_address            3412 non-null int64\n",
      "device_language       3378 non-null float64\n",
      "dtypes: bool(2), float64(4), int64(5), object(7)\n",
      "memory usage: 433.2+ KB\n"
     ]
    }
   ],
   "source": [
    "installs.info()"
   ]
  },
  {
   "cell_type": "code",
   "execution_count": 14,
   "metadata": {},
   "outputs": [
    {
     "data": {
      "text/html": [
       "<div>\n",
       "<style scoped>\n",
       "    .dataframe tbody tr th:only-of-type {\n",
       "        vertical-align: middle;\n",
       "    }\n",
       "\n",
       "    .dataframe tbody tr th {\n",
       "        vertical-align: top;\n",
       "    }\n",
       "\n",
       "    .dataframe thead th {\n",
       "        text-align: right;\n",
       "    }\n",
       "</style>\n",
       "<table border=\"1\" class=\"dataframe\">\n",
       "  <thead>\n",
       "    <tr style=\"text-align: right;\">\n",
       "      <th></th>\n",
       "      <th>created</th>\n",
       "      <th>application_id</th>\n",
       "      <th>ref_type</th>\n",
       "      <th>ref_hash</th>\n",
       "      <th>click_hash</th>\n",
       "      <th>attributed</th>\n",
       "      <th>implicit</th>\n",
       "      <th>device_countrycode</th>\n",
       "      <th>device_brand</th>\n",
       "      <th>device_model</th>\n",
       "      <th>session_user_agent</th>\n",
       "      <th>user_agent</th>\n",
       "      <th>event_uuid</th>\n",
       "      <th>kind</th>\n",
       "      <th>wifi</th>\n",
       "      <th>trans_id</th>\n",
       "      <th>ip_address</th>\n",
       "      <th>device_language</th>\n",
       "    </tr>\n",
       "  </thead>\n",
       "  <tbody>\n",
       "    <tr>\n",
       "      <th>3053</th>\n",
       "      <td>2019-03-11 15:17:00.967</td>\n",
       "      <td>10</td>\n",
       "      <td>1891515180541284343</td>\n",
       "      <td>5358574926846728502</td>\n",
       "      <td>NaN</td>\n",
       "      <td>False</td>\n",
       "      <td>False</td>\n",
       "      <td>6333597102633388268</td>\n",
       "      <td>3.083059e+17</td>\n",
       "      <td>7.116343e+18</td>\n",
       "      <td>http-kit/2.0</td>\n",
       "      <td>Dalvik/2.1.0 (Linux; U; Android 6.0.1; SM-J500...</td>\n",
       "      <td>NaN</td>\n",
       "      <td>NaN</td>\n",
       "      <td>True</td>\n",
       "      <td>NaN</td>\n",
       "      <td>6586849487961128061</td>\n",
       "      <td>9.028383e+18</td>\n",
       "    </tr>\n",
       "    <tr>\n",
       "      <th>1181</th>\n",
       "      <td>2019-03-11 15:19:58.237</td>\n",
       "      <td>9</td>\n",
       "      <td>1494519392962156891</td>\n",
       "      <td>5811160150128541343</td>\n",
       "      <td>NaN</td>\n",
       "      <td>False</td>\n",
       "      <td>False</td>\n",
       "      <td>6333597102633388268</td>\n",
       "      <td>NaN</td>\n",
       "      <td>2.331947e+18</td>\n",
       "      <td>http-kit/2.0</td>\n",
       "      <td>MercadoPago/2.58.0.2 CFNetwork/976 Darwin/18.2.0</td>\n",
       "      <td>NaN</td>\n",
       "      <td>NaN</td>\n",
       "      <td>False</td>\n",
       "      <td>NaN</td>\n",
       "      <td>3349463406047647490</td>\n",
       "      <td>1.193279e+18</td>\n",
       "    </tr>\n",
       "    <tr>\n",
       "      <th>2538</th>\n",
       "      <td>2019-03-11 19:19:34.409</td>\n",
       "      <td>7</td>\n",
       "      <td>1891515180541284343</td>\n",
       "      <td>5147765292066737832</td>\n",
       "      <td>NaN</td>\n",
       "      <td>False</td>\n",
       "      <td>False</td>\n",
       "      <td>2970470518450881158</td>\n",
       "      <td>NaN</td>\n",
       "      <td>6.805752e+18</td>\n",
       "      <td>adjust.com</td>\n",
       "      <td>NaN</td>\n",
       "      <td>NaN</td>\n",
       "      <td>NaN</td>\n",
       "      <td>NaN</td>\n",
       "      <td>NaN</td>\n",
       "      <td>297434974542400491</td>\n",
       "      <td>3.301378e+18</td>\n",
       "    </tr>\n",
       "    <tr>\n",
       "      <th>2539</th>\n",
       "      <td>2019-03-11 19:01:10.954</td>\n",
       "      <td>7</td>\n",
       "      <td>1891515180541284343</td>\n",
       "      <td>5121518301932488683</td>\n",
       "      <td>NaN</td>\n",
       "      <td>False</td>\n",
       "      <td>True</td>\n",
       "      <td>2970470518450881158</td>\n",
       "      <td>NaN</td>\n",
       "      <td>5.990117e+18</td>\n",
       "      <td>adjust.com</td>\n",
       "      <td>NaN</td>\n",
       "      <td>c554b49d-3d74-4257-98d2-655ddcb3b219</td>\n",
       "      <td>app_open</td>\n",
       "      <td>NaN</td>\n",
       "      <td>NaN</td>\n",
       "      <td>5643534282503081506</td>\n",
       "      <td>3.301378e+18</td>\n",
       "    </tr>\n",
       "    <tr>\n",
       "      <th>1023</th>\n",
       "      <td>2019-03-07 00:38:08.284</td>\n",
       "      <td>10</td>\n",
       "      <td>1891515180541284343</td>\n",
       "      <td>6214757576353824512</td>\n",
       "      <td>NaN</td>\n",
       "      <td>False</td>\n",
       "      <td>True</td>\n",
       "      <td>6333597102633388268</td>\n",
       "      <td>3.812621e+18</td>\n",
       "      <td>8.930982e+17</td>\n",
       "      <td>http-kit/2.0</td>\n",
       "      <td>Dalvik/2.1.0 (Linux; U; Android 9; HMA-L09 Bui...</td>\n",
       "      <td>ffb5ebd7-682b-4341-bb85-1b75d35223de</td>\n",
       "      <td>af_app_opened</td>\n",
       "      <td>True</td>\n",
       "      <td>NaN</td>\n",
       "      <td>1510921523823587147</td>\n",
       "      <td>6.977049e+18</td>\n",
       "    </tr>\n",
       "  </tbody>\n",
       "</table>\n",
       "</div>"
      ],
      "text/plain": [
       "                      created  application_id             ref_type  \\\n",
       "3053  2019-03-11 15:17:00.967              10  1891515180541284343   \n",
       "1181  2019-03-11 15:19:58.237               9  1494519392962156891   \n",
       "2538  2019-03-11 19:19:34.409               7  1891515180541284343   \n",
       "2539  2019-03-11 19:01:10.954               7  1891515180541284343   \n",
       "1023  2019-03-07 00:38:08.284              10  1891515180541284343   \n",
       "\n",
       "                 ref_hash  click_hash  attributed  implicit  \\\n",
       "3053  5358574926846728502         NaN       False     False   \n",
       "1181  5811160150128541343         NaN       False     False   \n",
       "2538  5147765292066737832         NaN       False     False   \n",
       "2539  5121518301932488683         NaN       False      True   \n",
       "1023  6214757576353824512         NaN       False      True   \n",
       "\n",
       "       device_countrycode  device_brand  device_model session_user_agent  \\\n",
       "3053  6333597102633388268  3.083059e+17  7.116343e+18       http-kit/2.0   \n",
       "1181  6333597102633388268           NaN  2.331947e+18       http-kit/2.0   \n",
       "2538  2970470518450881158           NaN  6.805752e+18         adjust.com   \n",
       "2539  2970470518450881158           NaN  5.990117e+18         adjust.com   \n",
       "1023  6333597102633388268  3.812621e+18  8.930982e+17       http-kit/2.0   \n",
       "\n",
       "                                             user_agent  \\\n",
       "3053  Dalvik/2.1.0 (Linux; U; Android 6.0.1; SM-J500...   \n",
       "1181   MercadoPago/2.58.0.2 CFNetwork/976 Darwin/18.2.0   \n",
       "2538                                                NaN   \n",
       "2539                                                NaN   \n",
       "1023  Dalvik/2.1.0 (Linux; U; Android 9; HMA-L09 Bui...   \n",
       "\n",
       "                                event_uuid           kind   wifi trans_id  \\\n",
       "3053                                   NaN            NaN   True      NaN   \n",
       "1181                                   NaN            NaN  False      NaN   \n",
       "2538                                   NaN            NaN    NaN      NaN   \n",
       "2539  c554b49d-3d74-4257-98d2-655ddcb3b219       app_open    NaN      NaN   \n",
       "1023  ffb5ebd7-682b-4341-bb85-1b75d35223de  af_app_opened   True      NaN   \n",
       "\n",
       "               ip_address  device_language  \n",
       "3053  6586849487961128061     9.028383e+18  \n",
       "1181  3349463406047647490     1.193279e+18  \n",
       "2538   297434974542400491     3.301378e+18  \n",
       "2539  5643534282503081506     3.301378e+18  \n",
       "1023  1510921523823587147     6.977049e+18  "
      ]
     },
     "execution_count": 14,
     "metadata": {},
     "output_type": "execute_result"
    }
   ],
   "source": [
    "installs.sample(5)"
   ]
  },
  {
   "cell_type": "code",
   "execution_count": 21,
   "metadata": {},
   "outputs": [],
   "source": [
    "installs = installs.drop(['click_hash'], axis='columns')"
   ]
  },
  {
   "cell_type": "markdown",
   "metadata": {},
   "source": [
    "Si analizamos la columna ***'device_countrycode'*** podemos observar que solo tenemos dos posibles valores, por lo que podemos cambiar el tipo de dato a Category, para reducir el tamaño del archivo.\n",
    "\n",
    "Del mismo modo podemos tratar a las columnas:\n",
    "   + ***'kind'*:** que indica el tipo de instalación. \n",
    "   + ***'session_user_agent'*:** que se refiere al agente de usuario utilizado para la instalación en cuestión.\n",
    "   + ***'ref_type'*:** que puede tomar como valor apple_ifa o google_advertising_id."
   ]
  },
  {
   "cell_type": "code",
   "execution_count": 6,
   "metadata": {
    "collapsed": true
   },
   "outputs": [
    {
     "data": {
      "text/plain": [
       "6333597102633388268    1820\n",
       "2970470518450881158    1592\n",
       "Name: device_countrycode, dtype: int64"
      ]
     },
     "execution_count": 6,
     "metadata": {},
     "output_type": "execute_result"
    }
   ],
   "source": [
    "installs['device_countrycode'].value_counts()"
   ]
  },
  {
   "cell_type": "code",
   "execution_count": 7,
   "metadata": {},
   "outputs": [],
   "source": [
    "installs['device_countrycode'] = installs['device_countrycode'].astype('category')"
   ]
  },
  {
   "cell_type": "code",
   "execution_count": 12,
   "metadata": {
    "collapsed": true
   },
   "outputs": [
    {
     "data": {
      "text/plain": [
       "af_app_opened                 428\n",
       "app_open                      212\n",
       "EVENT_Homepage                 70\n",
       "open                           36\n",
       "EVENT_OPEN_APP                 33\n",
       "Open                           22\n",
       "login_success                  17\n",
       "account_summary_first_step     13\n",
       "EVENT_HOMEPAGE                  6\n",
       "EVENT_LISTINGVIEW_FLIGHT        6\n",
       "deeplink                        5\n",
       "reattribution                   4\n",
       "registration                    3\n",
       "payment method add              3\n",
       "journey first drop off          2\n",
       "journey reserved                1\n",
       "journey drop off                1\n",
       "install                         1\n",
       "af_list_view                    1\n",
       "EVENT_PROMO                     1\n",
       "Name: kind, dtype: int64"
      ]
     },
     "execution_count": 12,
     "metadata": {},
     "output_type": "execute_result"
    }
   ],
   "source": [
    "installs['kind'].value_counts()"
   ]
  },
  {
   "cell_type": "code",
   "execution_count": 15,
   "metadata": {},
   "outputs": [],
   "source": [
    "installs['kind'] = installs['kind'].astype('category')"
   ]
  },
  {
   "cell_type": "code",
   "execution_count": 40,
   "metadata": {
    "collapsed": true
   },
   "outputs": [
    {
     "data": {
      "text/plain": [
       "http-kit/2.0                                                                                                                                                                                                                                                                  1729\n",
       "adjust.com                                                                                                                                                                                                                                                                    1592\n",
       "HasOffers Mobile AppTracking v1.0                                                                                                                                                                                                                                               22\n",
       "Mozilla/5.0 (iPhone; CPU iPhone OS 12_1_4 like Mac OS X) AppleWebKit/605.1.15 (KHTML, like Gecko) Version/12.0 Mobile/15E148 Safari/604.1                                                                                                                                       10\n",
       "Mozilla/5.0 (iPhone; CPU iPhone OS 12_1 like Mac OS X) AppleWebKit/605.1.15 (KHTML, like Gecko) CriOS/72.0.3626.101 Mobile/15E148 Safari/605.1                                                                                                                                   3\n",
       "Mozilla/5.0 (iPhone; CPU iPhone OS 12_1_2 like Mac OS X) AppleWebKit/605.1.15 (KHTML, like Gecko) Version/12.0 Mobile/15E148 Safari/604.1                                                                                                                                        2\n",
       "Mozilla/5.0 (iPhone; CPU iPhone OS 12_1 like Mac OS X) AppleWebKit/605.1.15 (KHTML, like Gecko) GSA/68.0.234683655 Mobile/15E148 Safari/605.1                                                                                                                                    1\n",
       "Mozilla/5.0 (iPhone; CPU iPhone OS 11_4_1 like Mac OS X) AppleWebKit/605.1.15 (KHTML, like Gecko) Version/11.0 Mobile/15E148 Safari/604.1                                                                                                                                        1\n",
       "Mozilla/5.0 (iPad; CPU OS 12_1_4 like Mac OS X) AppleWebKit/605.1.15 (KHTML, like Gecko) Version/12.0 Mobile/15E148 Safari/604.1                                                                                                                                                 1\n",
       "Mozilla/5.0 (iPhone; CPU iPhone OS 11_2_6 like Mac OS X) AppleWebKit/604.5.6 (KHTML, like Gecko) Version/11.0 Mobile/15D100 Safari/604.1                                                                                                                                         1\n",
       "Mozilla/5.0 (iPhone; CPU iPhone OS 12_1_2 like Mac OS X) AppleWebKit/605.1.15 (KHTML, like Gecko) Mobile/16C101 [FBAN/FBIOS;FBAV/208.0.0.48.103;FBBV/141927594;FBDV/iPhone9,3;FBMD/iPhone;FBSN/iOS;FBSV/12.1.2;FBSS/2;FBCR/O2;FBID/phone;FBLC/en_GB;FBOP/5;FBRV/143280066]       1\n",
       "Mozilla/5.0 (Linux; Android 6.0; ALE-L23) AppleWebKit/537.36 (KHTML, like Gecko) Chrome/72.0.3626.105 Mobile Safari/537.36                                                                                                                                                       1\n",
       "Name: session_user_agent, dtype: int64"
      ]
     },
     "execution_count": 40,
     "metadata": {},
     "output_type": "execute_result"
    }
   ],
   "source": [
    "installs['session_user_agent'].value_counts()"
   ]
  },
  {
   "cell_type": "code",
   "execution_count": 42,
   "metadata": {},
   "outputs": [],
   "source": [
    "installs['session_user_agent'] = installs['session_user_agent'].astype('category')"
   ]
  },
  {
   "cell_type": "code",
   "execution_count": 46,
   "metadata": {},
   "outputs": [
    {
     "data": {
      "text/plain": [
       "1891515180541284343    2080\n",
       "1494519392962156891    1332\n",
       "Name: ref_type, dtype: int64"
      ]
     },
     "execution_count": 46,
     "metadata": {},
     "output_type": "execute_result"
    }
   ],
   "source": [
    "installs['ref_type'].value_counts()"
   ]
  },
  {
   "cell_type": "code",
   "execution_count": 48,
   "metadata": {},
   "outputs": [],
   "source": [
    "installs['ref_type'] = installs['ref_type'].astype('category')"
   ]
  },
  {
   "cell_type": "code",
   "execution_count": 17,
   "metadata": {},
   "outputs": [
    {
     "data": {
      "text/plain": [
       "True     1377\n",
       "False     352\n",
       "Name: wifi, dtype: int64"
      ]
     },
     "execution_count": 17,
     "metadata": {},
     "output_type": "execute_result"
    }
   ],
   "source": [
    "installs['wifi'].value_counts()"
   ]
  },
  {
   "cell_type": "code",
   "execution_count": 18,
   "metadata": {},
   "outputs": [],
   "source": [
    "installs['wifi'] = installs['wifi'].astype('bool')"
   ]
  },
  {
   "cell_type": "code",
   "execution_count": 41,
   "metadata": {},
   "outputs": [
    {
     "name": "stdout",
     "output_type": "stream",
     "text": [
      "<class 'pandas.core.frame.DataFrame'>\n",
      "RangeIndex: 3412 entries, 0 to 3411\n",
      "Data columns (total 19 columns):\n",
      "created               3412 non-null datetime64[ns]\n",
      "application_id        3412 non-null int8\n",
      "ref_type              3412 non-null int64\n",
      "ref_hash              3412 non-null int64\n",
      "attributed            3412 non-null bool\n",
      "implicit              3412 non-null bool\n",
      "device_countrycode    3412 non-null category\n",
      "device_brand          1047 non-null float64\n",
      "device_model          3411 non-null float64\n",
      "session_user_agent    3364 non-null object\n",
      "user_agent            1729 non-null object\n",
      "event_uuid            865 non-null object\n",
      "kind                  865 non-null category\n",
      "wifi                  3412 non-null bool\n",
      "trans_id              6 non-null object\n",
      "ip_address            3412 non-null int64\n",
      "device_language       3378 non-null float64\n",
      "day                   3412 non-null int64\n",
      "hour                  3412 non-null int64\n",
      "dtypes: bool(3), category(2), datetime64[ns](1), float64(3), int64(5), int8(1), object(4)\n",
      "memory usage: 367.5+ KB\n"
     ]
    }
   ],
   "source": [
    "installs.info()"
   ]
  },
  {
   "cell_type": "markdown",
   "metadata": {},
   "source": [
    "Por otro lado, como la columna ***'created'*** tiene la fecha en la cual se realizó la instalación, podemos convertir dicho campo al tipo ***datetime***. Y luego, separándolo en año, mes, día y hora de la intalación."
   ]
  },
  {
   "cell_type": "code",
   "execution_count": 32,
   "metadata": {},
   "outputs": [
    {
     "data": {
      "text/html": [
       "<div>\n",
       "<style scoped>\n",
       "    .dataframe tbody tr th:only-of-type {\n",
       "        vertical-align: middle;\n",
       "    }\n",
       "\n",
       "    .dataframe tbody tr th {\n",
       "        vertical-align: top;\n",
       "    }\n",
       "\n",
       "    .dataframe thead th {\n",
       "        text-align: right;\n",
       "    }\n",
       "</style>\n",
       "<table border=\"1\" class=\"dataframe\">\n",
       "  <thead>\n",
       "    <tr style=\"text-align: right;\">\n",
       "      <th></th>\n",
       "      <th>created</th>\n",
       "      <th>application_id</th>\n",
       "      <th>ref_type</th>\n",
       "      <th>ref_hash</th>\n",
       "      <th>attributed</th>\n",
       "      <th>implicit</th>\n",
       "      <th>device_countrycode</th>\n",
       "      <th>device_brand</th>\n",
       "      <th>device_model</th>\n",
       "      <th>session_user_agent</th>\n",
       "      <th>...</th>\n",
       "      <th>event_uuid</th>\n",
       "      <th>kind</th>\n",
       "      <th>wifi</th>\n",
       "      <th>trans_id</th>\n",
       "      <th>ip_address</th>\n",
       "      <th>device_language</th>\n",
       "      <th>year</th>\n",
       "      <th>month</th>\n",
       "      <th>day</th>\n",
       "      <th>hour</th>\n",
       "    </tr>\n",
       "  </thead>\n",
       "  <tbody>\n",
       "    <tr>\n",
       "      <th>1694</th>\n",
       "      <td>2019-03-07 17:24:04.112</td>\n",
       "      <td>7</td>\n",
       "      <td>1891515180541284343</td>\n",
       "      <td>6176261861216596286</td>\n",
       "      <td>False</td>\n",
       "      <td>True</td>\n",
       "      <td>2970470518450881158</td>\n",
       "      <td>NaN</td>\n",
       "      <td>6.870743e+18</td>\n",
       "      <td>adjust.com</td>\n",
       "      <td>...</td>\n",
       "      <td>e38f51b0-0068-43c1-8246-d513b38cb2b8</td>\n",
       "      <td>app_open</td>\n",
       "      <td>True</td>\n",
       "      <td>NaN</td>\n",
       "      <td>8895102095186209511</td>\n",
       "      <td>3.301378e+18</td>\n",
       "      <td>2019</td>\n",
       "      <td>3</td>\n",
       "      <td>7</td>\n",
       "      <td>17</td>\n",
       "    </tr>\n",
       "    <tr>\n",
       "      <th>1000</th>\n",
       "      <td>2019-03-08 23:23:39.525</td>\n",
       "      <td>10</td>\n",
       "      <td>1891515180541284343</td>\n",
       "      <td>5811600816877326860</td>\n",
       "      <td>False</td>\n",
       "      <td>True</td>\n",
       "      <td>6333597102633388268</td>\n",
       "      <td>3.083059e+17</td>\n",
       "      <td>7.116343e+18</td>\n",
       "      <td>http-kit/2.0</td>\n",
       "      <td>...</td>\n",
       "      <td>4055beb9-ae4b-4c4d-b03f-9c14f0364b6f</td>\n",
       "      <td>af_app_opened</td>\n",
       "      <td>True</td>\n",
       "      <td>NaN</td>\n",
       "      <td>8789533715246265597</td>\n",
       "      <td>9.028383e+18</td>\n",
       "      <td>2019</td>\n",
       "      <td>3</td>\n",
       "      <td>8</td>\n",
       "      <td>23</td>\n",
       "    </tr>\n",
       "    <tr>\n",
       "      <th>3322</th>\n",
       "      <td>2019-03-11 18:57:14.031</td>\n",
       "      <td>16</td>\n",
       "      <td>1891515180541284343</td>\n",
       "      <td>7502217623810414477</td>\n",
       "      <td>False</td>\n",
       "      <td>False</td>\n",
       "      <td>6333597102633388268</td>\n",
       "      <td>3.083059e+17</td>\n",
       "      <td>2.066431e+17</td>\n",
       "      <td>http-kit/2.0</td>\n",
       "      <td>...</td>\n",
       "      <td>NaN</td>\n",
       "      <td>NaN</td>\n",
       "      <td>True</td>\n",
       "      <td>NaN</td>\n",
       "      <td>5721996934240747370</td>\n",
       "      <td>9.028383e+18</td>\n",
       "      <td>2019</td>\n",
       "      <td>3</td>\n",
       "      <td>11</td>\n",
       "      <td>18</td>\n",
       "    </tr>\n",
       "    <tr>\n",
       "      <th>2044</th>\n",
       "      <td>2019-03-09 21:30:56.717</td>\n",
       "      <td>7</td>\n",
       "      <td>1891515180541284343</td>\n",
       "      <td>4116266644251946584</td>\n",
       "      <td>False</td>\n",
       "      <td>True</td>\n",
       "      <td>2970470518450881158</td>\n",
       "      <td>NaN</td>\n",
       "      <td>2.435450e+18</td>\n",
       "      <td>adjust.com</td>\n",
       "      <td>...</td>\n",
       "      <td>d76f74ab-80a1-4493-b3ec-608d5d3c74cf</td>\n",
       "      <td>app_open</td>\n",
       "      <td>True</td>\n",
       "      <td>NaN</td>\n",
       "      <td>1898159073329655148</td>\n",
       "      <td>3.301378e+18</td>\n",
       "      <td>2019</td>\n",
       "      <td>3</td>\n",
       "      <td>9</td>\n",
       "      <td>21</td>\n",
       "    </tr>\n",
       "    <tr>\n",
       "      <th>1231</th>\n",
       "      <td>2019-03-11 20:08:51.282</td>\n",
       "      <td>9</td>\n",
       "      <td>1494519392962156891</td>\n",
       "      <td>7342955474397593416</td>\n",
       "      <td>False</td>\n",
       "      <td>False</td>\n",
       "      <td>6333597102633388268</td>\n",
       "      <td>NaN</td>\n",
       "      <td>2.331947e+18</td>\n",
       "      <td>http-kit/2.0</td>\n",
       "      <td>...</td>\n",
       "      <td>NaN</td>\n",
       "      <td>NaN</td>\n",
       "      <td>True</td>\n",
       "      <td>NaN</td>\n",
       "      <td>4639495134143105002</td>\n",
       "      <td>4.621024e+18</td>\n",
       "      <td>2019</td>\n",
       "      <td>3</td>\n",
       "      <td>11</td>\n",
       "      <td>20</td>\n",
       "    </tr>\n",
       "  </tbody>\n",
       "</table>\n",
       "<p>5 rows × 21 columns</p>\n",
       "</div>"
      ],
      "text/plain": [
       "                     created  application_id             ref_type  \\\n",
       "1694 2019-03-07 17:24:04.112               7  1891515180541284343   \n",
       "1000 2019-03-08 23:23:39.525              10  1891515180541284343   \n",
       "3322 2019-03-11 18:57:14.031              16  1891515180541284343   \n",
       "2044 2019-03-09 21:30:56.717               7  1891515180541284343   \n",
       "1231 2019-03-11 20:08:51.282               9  1494519392962156891   \n",
       "\n",
       "                 ref_hash  attributed  implicit   device_countrycode  \\\n",
       "1694  6176261861216596286       False      True  2970470518450881158   \n",
       "1000  5811600816877326860       False      True  6333597102633388268   \n",
       "3322  7502217623810414477       False     False  6333597102633388268   \n",
       "2044  4116266644251946584       False      True  2970470518450881158   \n",
       "1231  7342955474397593416       False     False  6333597102633388268   \n",
       "\n",
       "      device_brand  device_model session_user_agent  ...   \\\n",
       "1694           NaN  6.870743e+18         adjust.com  ...    \n",
       "1000  3.083059e+17  7.116343e+18       http-kit/2.0  ...    \n",
       "3322  3.083059e+17  2.066431e+17       http-kit/2.0  ...    \n",
       "2044           NaN  2.435450e+18         adjust.com  ...    \n",
       "1231           NaN  2.331947e+18       http-kit/2.0  ...    \n",
       "\n",
       "                                event_uuid           kind  wifi  trans_id  \\\n",
       "1694  e38f51b0-0068-43c1-8246-d513b38cb2b8       app_open  True       NaN   \n",
       "1000  4055beb9-ae4b-4c4d-b03f-9c14f0364b6f  af_app_opened  True       NaN   \n",
       "3322                                   NaN            NaN  True       NaN   \n",
       "2044  d76f74ab-80a1-4493-b3ec-608d5d3c74cf       app_open  True       NaN   \n",
       "1231                                   NaN            NaN  True       NaN   \n",
       "\n",
       "               ip_address  device_language  year  month  day  hour  \n",
       "1694  8895102095186209511     3.301378e+18  2019      3    7    17  \n",
       "1000  8789533715246265597     9.028383e+18  2019      3    8    23  \n",
       "3322  5721996934240747370     9.028383e+18  2019      3   11    18  \n",
       "2044  1898159073329655148     3.301378e+18  2019      3    9    21  \n",
       "1231  4639495134143105002     4.621024e+18  2019      3   11    20  \n",
       "\n",
       "[5 rows x 21 columns]"
      ]
     },
     "execution_count": 32,
     "metadata": {},
     "output_type": "execute_result"
    }
   ],
   "source": [
    "installs['created'] = pd.to_datetime(installs['created'])\n",
    "\n",
    "installs['year'] = installs['created'].dt.year\n",
    "installs['month'] = installs['created'].dt.month\n",
    "installs['day'] = installs['created'].dt.day\n",
    "installs['hour'] = installs['created'].dt.hour\n",
    "installs.sample(5)"
   ]
  },
  {
   "cell_type": "markdown",
   "metadata": {},
   "source": [
    "Como los datos corresponden solo a las instalaciones en el mes de Marzo del 2019, podemos prescindir tanto de la columna ***'year'*** como de la columna ***'month'*** ya que tenerlas no nos dan datos relevantes para el análisis, "
   ]
  },
  {
   "cell_type": "code",
   "execution_count": null,
   "metadata": {},
   "outputs": [],
   "source": [
    "installs['year'].value_counts()"
   ]
  },
  {
   "cell_type": "code",
   "execution_count": 28,
   "metadata": {},
   "outputs": [
    {
     "data": {
      "text/plain": [
       "3    3412\n",
       "Name: month, dtype: int64"
      ]
     },
     "execution_count": 28,
     "metadata": {},
     "output_type": "execute_result"
    }
   ],
   "source": [
    "installs['month'].value_counts()"
   ]
  },
  {
   "cell_type": "code",
   "execution_count": 33,
   "metadata": {},
   "outputs": [],
   "source": [
    "installs = installs.drop(['year'], axis='columns')\n",
    "installs = installs.drop(['month'], axis='columns')"
   ]
  },
  {
   "cell_type": "code",
   "execution_count": 51,
   "metadata": {},
   "outputs": [],
   "source": [
    "installs['hour'] = installs['hour'].astype(np.int8)"
   ]
  },
  {
   "cell_type": "markdown",
   "metadata": {},
   "source": [
    "Para el caso de ***'application_id'*** podemos ver que el cada aplicación registrada se numeran a partir de cero, y al no tener un número relativamente pequeño de aplicaciones, podemos convertir el valor de dicha columna de ***int64*** a ***int8***, para poder reducir mucho más el tamaño del DataFrame."
   ]
  },
  {
   "cell_type": "code",
   "execution_count": 35,
   "metadata": {},
   "outputs": [
    {
     "data": {
      "text/plain": [
       "7     947\n",
       "9     731\n",
       "10    389\n",
       "16    362\n",
       "8     328\n",
       "2     174\n",
       "29     97\n",
       "20     95\n",
       "6      35\n",
       "1      34\n",
       "26     28\n",
       "34     28\n",
       "15     20\n",
       "0      18\n",
       "3      17\n",
       "28     17\n",
       "12     15\n",
       "18     14\n",
       "24     13\n",
       "17     13\n",
       "14     13\n",
       "21      7\n",
       "5       3\n",
       "13      3\n",
       "33      2\n",
       "30      2\n",
       "19      2\n",
       "32      2\n",
       "36      1\n",
       "4       1\n",
       "23      1\n",
       "Name: application_id, dtype: int64"
      ]
     },
     "execution_count": 35,
     "metadata": {},
     "output_type": "execute_result"
    }
   ],
   "source": [
    "installs['application_id'].value_counts()"
   ]
  },
  {
   "cell_type": "code",
   "execution_count": 37,
   "metadata": {},
   "outputs": [],
   "source": [
    "installs['application_id'] = installs['application_id'].astype(np.int8)"
   ]
  },
  {
   "cell_type": "markdown",
   "metadata": {},
   "source": [
    "El tamaño del archivo se redujo más de 100KB."
   ]
  },
  {
   "cell_type": "code",
   "execution_count": 52,
   "metadata": {},
   "outputs": [
    {
     "name": "stdout",
     "output_type": "stream",
     "text": [
      "<class 'pandas.core.frame.DataFrame'>\n",
      "RangeIndex: 3412 entries, 0 to 3411\n",
      "Data columns (total 19 columns):\n",
      "created               3412 non-null datetime64[ns]\n",
      "application_id        3412 non-null int8\n",
      "ref_type              3412 non-null category\n",
      "ref_hash              3412 non-null int64\n",
      "attributed            3412 non-null bool\n",
      "implicit              3412 non-null bool\n",
      "device_countrycode    3412 non-null category\n",
      "device_brand          1047 non-null float64\n",
      "device_model          3411 non-null float64\n",
      "session_user_agent    3364 non-null category\n",
      "user_agent            1729 non-null object\n",
      "event_uuid            865 non-null object\n",
      "kind                  865 non-null category\n",
      "wifi                  3412 non-null bool\n",
      "trans_id              6 non-null object\n",
      "ip_address            3412 non-null int64\n",
      "device_language       3378 non-null float64\n",
      "day                   3412 non-null int64\n",
      "hour                  3412 non-null int8\n",
      "dtypes: bool(3), category(4), datetime64[ns](1), float64(3), int64(3), int8(2), object(3)\n",
      "memory usage: 298.0+ KB\n"
     ]
    }
   ],
   "source": [
    "installs.info()"
   ]
  },
  {
   "cell_type": "code",
   "execution_count": null,
   "metadata": {},
   "outputs": [],
   "source": []
  }
 ],
 "metadata": {
  "kernelspec": {
   "display_name": "Python 3",
   "language": "python",
   "name": "python3"
  },
  "language_info": {
   "codemirror_mode": {
    "name": "ipython",
    "version": 3
   },
   "file_extension": ".py",
   "mimetype": "text/x-python",
   "name": "python",
   "nbconvert_exporter": "python",
   "pygments_lexer": "ipython3",
   "version": "3.7.1"
  }
 },
 "nbformat": 4,
 "nbformat_minor": 2
}
