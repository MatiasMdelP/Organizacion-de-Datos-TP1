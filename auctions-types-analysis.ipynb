{
 "cells": [
  {
   "cell_type": "code",
   "execution_count": 1,
   "metadata": {},
   "outputs": [],
   "source": [
    "import pandas as pd"
   ]
  },
  {
   "cell_type": "code",
   "execution_count": 2,
   "metadata": {},
   "outputs": [],
   "source": [
    "auctionsFirstValues = pd.read_csv('./datos/auctions.csv', nrows=100)"
   ]
  },
  {
   "cell_type": "code",
   "execution_count": 3,
   "metadata": {},
   "outputs": [
    {
     "name": "stdout",
     "output_type": "stream",
     "text": [
      "<class 'pandas.core.frame.DataFrame'>\n",
      "RangeIndex: 100 entries, 0 to 99\n",
      "Data columns (total 7 columns):\n",
      "auction_type_id    0 non-null float64\n",
      "country            100 non-null int64\n",
      "date               100 non-null object\n",
      "device_id          100 non-null int64\n",
      "platform           100 non-null int64\n",
      "ref_type_id        100 non-null int64\n",
      "source_id          100 non-null int64\n",
      "dtypes: float64(1), int64(5), object(1)\n",
      "memory usage: 5.5+ KB\n"
     ]
    }
   ],
   "source": [
    "auctionsFirstValues.info()"
   ]
  },
  {
   "cell_type": "code",
   "execution_count": 4,
   "metadata": {},
   "outputs": [],
   "source": [
    "auctionsIterator = pd.read_csv('./datos/auctions.csv', chunksize=1000000)"
   ]
  },
  {
   "cell_type": "code",
   "execution_count": 7,
   "metadata": {},
   "outputs": [],
   "source": [
    "columnNames = ['country', 'device_id', 'platform', 'ref_type_id', 'source_id']\n",
    "max = [(columnName, 0) for columnName in columnNames]\n",
    "max = dict(max)\n",
    "min = [(columnName, auctionsFirstValues[columnName].iloc[0]) for columnName in columnNames]\n",
    "min = dict(min)\n",
    "chunkMax = 0\n",
    "chunkMin = 0\n",
    "for auctionsChunk in auctionsIterator:\n",
    "    for columnName in columnNames:\n",
    "        chunkMax = auctionsChunk[columnName].max();\n",
    "        chunkMin = auctionsChunk[columnName].min();\n",
    "        max[columnName] = chunkMax if chunkMax > max[columnName] else max[columnName]\n",
    "        min[columnName] = chunkMin if chunkMin < min[columnName] else min[columnName]"
   ]
  },
  {
   "cell_type": "code",
   "execution_count": 9,
   "metadata": {},
   "outputs": [
    {
     "name": "stdout",
     "output_type": "stream",
     "text": [
      "country \t 6333597102633388268 to 6333597102633388268\n",
      "device_id \t 113858820194433 to 9223339248797887725\n",
      "platform \t 1 to 2\n",
      "ref_type_id \t 1 to 7\n",
      "source_id \t 0 to 6\n"
     ]
    }
   ],
   "source": [
    "for columnName in columnNames:\n",
    "    print(columnName, '\\t', min[columnName], 'to', max[columnName])"
   ]
  }
 ],
 "metadata": {
  "kernelspec": {
   "display_name": "Python 3",
   "language": "python",
   "name": "python3"
  },
  "language_info": {
   "codemirror_mode": {
    "name": "ipython",
    "version": 3
   },
   "file_extension": ".py",
   "mimetype": "text/x-python",
   "name": "python",
   "nbconvert_exporter": "python",
   "pygments_lexer": "ipython3",
   "version": "3.6.7"
  }
 },
 "nbformat": 4,
 "nbformat_minor": 2
}
